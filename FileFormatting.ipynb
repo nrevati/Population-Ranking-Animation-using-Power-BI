{
 "cells": [
  {
   "cell_type": "code",
   "execution_count": 1,
   "id": "0cfc1e80",
   "metadata": {},
   "outputs": [],
   "source": [
    "import csv\n",
    "import operator\n",
    "import copy\n",
    "from token import EQUAL\n",
    "from builtins import sorted"
   ]
  },
  {
   "cell_type": "code",
   "execution_count": 2,
   "id": "f10694b8",
   "metadata": {},
   "outputs": [],
   "source": [
    "#Open the CSV file\n",
    "reader = csv.reader(open(r'C:\\Users\\nreva\\OneDrive\\Desktop\\Data Visualization\\DV_4_Animated_Data_Visualization\\Largest_Cities_CSV.csv'), delimiter=\",\")"
   ]
  },
  {
   "cell_type": "code",
   "execution_count": 3,
   "id": "c9608392",
   "metadata": {},
   "outputs": [],
   "source": [
    "#Initialize the variables\n",
    "u = 'State - Place'\n",
    "x = 'Year'\n",
    "y = 'Population'\n",
    "z = 'Revati - Rank'\n",
    "rows_so_far = 0\n",
    "c = 0"
   ]
  },
  {
   "cell_type": "code",
   "execution_count": 4,
   "id": "77441544",
   "metadata": {},
   "outputs": [],
   "source": [
    "#Initializing the 2 dimensional list\n",
    "pool = []\n",
    "pool.append([])"
   ]
  },
  {
   "cell_type": "code",
   "execution_count": 6,
   "id": "525ed108",
   "metadata": {},
   "outputs": [],
   "source": [
    "#Loop through the csv file and append the list\n",
    "for row in reader:\n",
    "    if rows_so_far==0:\n",
    "        rows_so_far +=1\n",
    "        header = row\n",
    "        \n",
    "#Populate Header\n",
    "#Header for the csv file should include\n",
    "#State-City, Year, Population, Rank\n",
    "        for j in range(0,4):\n",
    "            if j==0:\n",
    "                pool.append([])\n",
    "                pool[0].append(u)\n",
    "            if j==1:\n",
    "                pool[0].append(x)\n",
    "            if j==2:\n",
    "                pool[0].append(y)\n",
    "            if j==3:\n",
    "                pool[0].append(z)\n",
    "    else:\n",
    "#Populate items\n",
    "#Append the population a city for each year\n",
    "        for i in range(len(row)-2):\n",
    "            a=len(pool)\n",
    "            if not row==[]:\n",
    "                if i==0 or i>=1:\n",
    "                    item=copy.deepcopy(row)\n",
    "                    r=copy.deepcopy(row)\n",
    "                \n",
    "#Populate the values for a column\n",
    "                    for j in range(0,4):\n",
    "                        if item[i+2] != '':\n",
    "                            if j==0:\n",
    "                    \n",
    "#Concatenate the state and city value\n",
    "                                r[0]= item[j+1]+' - '+item[j]\n",
    "                                pool.append([])\n",
    "                                pool[a-1].append(r[0])\n",
    "            \n",
    "#Populate year value\n",
    "                            if j==1:\n",
    "                                pool[a-1].append(int(header[i+2]))\n",
    "            \n",
    "#Populate population value\n",
    "#In case population is nil, do not append the record\n",
    "                            if j==2:\n",
    "                                if item[i+2]=='':\n",
    "                                    pool[a-1].append(int(0))\n",
    "                                else:\n",
    "                                    pool[a-1].append(int(item[i+2]))\n",
    "                                \n",
    "#Initialise the rank to zero\n",
    "                            if j==3:\n",
    "                                pool[a-1].append(int(0))\n",
    "            \n",
    "    rows_so_far+=1\n",
    "        "
   ]
  },
  {
   "cell_type": "code",
   "execution_count": 7,
   "id": "519f8059",
   "metadata": {},
   "outputs": [],
   "source": [
    "#Check the length of the list\n",
    "a = len(pool)"
   ]
  },
  {
   "cell_type": "code",
   "execution_count": 8,
   "id": "9674b60f",
   "metadata": {},
   "outputs": [],
   "source": [
    "#Populate the list with all values except header as\n",
    "#Sorting cannot be done on integer values when one record has character value\n",
    "list = pool[1:a-1]"
   ]
  },
  {
   "cell_type": "code",
   "execution_count": 9,
   "id": "22873b2b",
   "metadata": {},
   "outputs": [],
   "source": [
    "#Sort the list by Year & Population\n",
    "list.sort(key =lambda b: (b[1],b[2]), reverse=True )"
   ]
  },
  {
   "cell_type": "code",
   "execution_count": 10,
   "id": "83b2b25c",
   "metadata": {},
   "outputs": [],
   "source": [
    "#Add the header to the list\n",
    "list1= []\n",
    "list1.append([])\n",
    "list1[0] = pool[0]\n",
    "list1[1:a-1] = list[0:a-2]"
   ]
  },
  {
   "cell_type": "code",
   "execution_count": 11,
   "id": "c6363fc8",
   "metadata": {},
   "outputs": [],
   "source": [
    "#Convert the list into CSV file\n",
    "mycsv = csv.writer(open(r'C:\\Users\\nreva\\OneDrive\\Desktop\\Data Visualization\\DV_4_Animated_Data_Visualization\\Revati.csv','w', newline=''))\n",
    "for row in list1:\n",
    "#Fetching the row index\n",
    "#No calculation is done at header level\n",
    "    e= list1.index(row)\n",
    "#Compare the year value of the current record with the year value of the previous record\n",
    "#if same calculate the rank, if different assign the rank as one \n",
    "    if row[1] != c and  e != 0:\n",
    "        v=1\n",
    "        c= row[1]\n",
    "        row[3]= v\n",
    "    else:\n",
    "        if row[1] == c and e != 0:\n",
    "            v+=1\n",
    "            row[3]= v\n",
    "#write row to csv\n",
    "    mycsv.writerow(row)"
   ]
  },
  {
   "cell_type": "code",
   "execution_count": null,
   "id": "f2419abe",
   "metadata": {},
   "outputs": [],
   "source": []
  }
 ],
 "metadata": {
  "kernelspec": {
   "display_name": "Python 3 (ipykernel)",
   "language": "python",
   "name": "python3"
  },
  "language_info": {
   "codemirror_mode": {
    "name": "ipython",
    "version": 3
   },
   "file_extension": ".py",
   "mimetype": "text/x-python",
   "name": "python",
   "nbconvert_exporter": "python",
   "pygments_lexer": "ipython3",
   "version": "3.9.13"
  }
 },
 "nbformat": 4,
 "nbformat_minor": 5
}
